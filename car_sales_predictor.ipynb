{
 "cells": [
  {
   "cell_type": "markdown",
   "metadata": {},
   "source": [
    "# PROBLEM STATEMENT"
   ]
  },
  {
   "cell_type": "markdown",
   "metadata": {},
   "source": [
    "# STEP #0: LIBRARIES IMPORT\n"
   ]
  },
  {
   "cell_type": "markdown",
   "metadata": {},
   "source": [
    "You are working as a car salesman and you would like to develop a model to predict the total dollar amount that customers are willing to pay given the following attributes: \n",
    "- Customer Name\n",
    "- Customer e-mail\n",
    "- Country\n",
    "- Gender\n",
    "- Age\n",
    "- Annual Salary \n",
    "- Credit Card Debt \n",
    "- Net Worth \n",
    "\n",
    "The model should predict: \n",
    "- Car Purchase Amount "
   ]
  },
  {
   "cell_type": "markdown",
   "metadata": {},
   "source": [
    "# STEP #1: IMPORT DATASET"
   ]
  },
  {
   "cell_type": "code",
   "execution_count": 1,
   "metadata": {},
   "outputs": [],
   "source": [
    "import pandas as pd\n",
    "import numpy as np\n",
    "import matplotlib.pyplot as plt\n",
    "import seaborn as sns"
   ]
  },
  {
   "cell_type": "code",
   "execution_count": 4,
   "metadata": {
    "scrolled": true
   },
   "outputs": [],
   "source": [
    "# encoding is added to parse special symbols in the data such as '@'\n",
    "car_df = pd.read_csv('Car_Purchasing_Data.csv',encoding='ISO-8859-1')"
   ]
  },
  {
   "cell_type": "code",
   "execution_count": 5,
   "metadata": {},
   "outputs": [
    {
     "output_type": "execute_result",
     "data": {
      "text/plain": [
       "       Customer Name                                    Customer e-mail  \\\n",
       "0      Martina Avila  cubilia.Curae.Phasellus@quisaccumsanconvallis.edu   \n",
       "1      Harlan Barnes                                eu.dolor@diam.co.uk   \n",
       "2    Naomi Rodriquez  vulputate.mauris.sagittis@ametconsectetueradip...   \n",
       "3    Jade Cunningham                            malesuada@dignissim.com   \n",
       "4       Cedric Leach     felis.ullamcorper.viverra@egetmollislectus.net   \n",
       "..               ...                                                ...   \n",
       "495           Walter                                ligula@Cumsociis.ca   \n",
       "496            Vanna                 Cum.sociis.natoque@Sedmolestie.edu   \n",
       "497            Pearl                      penatibus.et@massanonante.com   \n",
       "498             Nell                  Quisque.varius@arcuVivamussit.net   \n",
       "499            Marla                          Camaron.marla@hotmail.com   \n",
       "\n",
       "          Country  Gender        Age  Annual Salary  Credit Card Debt  \\\n",
       "0        Bulgaria       0  41.851720    62812.09301      11609.380910   \n",
       "1          Belize       0  40.870623    66646.89292       9572.957136   \n",
       "2         Algeria       1  43.152897    53798.55112      11160.355060   \n",
       "3    Cook Islands       1  58.271369    79370.03798      14426.164850   \n",
       "4          Brazil       1  57.313749    59729.15130       5358.712177   \n",
       "..            ...     ...        ...            ...               ...   \n",
       "495         Nepal       0  41.462515    71942.40291       6995.902524   \n",
       "496      Zimbabwe       1  37.642000    56039.49793      12301.456790   \n",
       "497   Philippines       1  53.943497    68888.77805      10611.606860   \n",
       "498      Botswana       1  59.160509    49811.99062      14013.034510   \n",
       "499        marlal       1  46.731152    61370.67766       9391.341628   \n",
       "\n",
       "       Net Worth  Car Purchase Amount  \n",
       "0    238961.2505          35321.45877  \n",
       "1    530973.9078          45115.52566  \n",
       "2    638467.1773          42925.70921  \n",
       "3    548599.0524          67422.36313  \n",
       "4    560304.0671          55915.46248  \n",
       "..           ...                  ...  \n",
       "495  541670.1016          48901.44342  \n",
       "496  360419.0988          31491.41457  \n",
       "497  764531.3203          64147.28888  \n",
       "498  337826.6382          45442.15353  \n",
       "499  462946.4924          45107.22566  \n",
       "\n",
       "[500 rows x 9 columns]"
      ],
      "text/html": "<div>\n<style scoped>\n    .dataframe tbody tr th:only-of-type {\n        vertical-align: middle;\n    }\n\n    .dataframe tbody tr th {\n        vertical-align: top;\n    }\n\n    .dataframe thead th {\n        text-align: right;\n    }\n</style>\n<table border=\"1\" class=\"dataframe\">\n  <thead>\n    <tr style=\"text-align: right;\">\n      <th></th>\n      <th>Customer Name</th>\n      <th>Customer e-mail</th>\n      <th>Country</th>\n      <th>Gender</th>\n      <th>Age</th>\n      <th>Annual Salary</th>\n      <th>Credit Card Debt</th>\n      <th>Net Worth</th>\n      <th>Car Purchase Amount</th>\n    </tr>\n  </thead>\n  <tbody>\n    <tr>\n      <td>0</td>\n      <td>Martina Avila</td>\n      <td>cubilia.Curae.Phasellus@quisaccumsanconvallis.edu</td>\n      <td>Bulgaria</td>\n      <td>0</td>\n      <td>41.851720</td>\n      <td>62812.09301</td>\n      <td>11609.380910</td>\n      <td>238961.2505</td>\n      <td>35321.45877</td>\n    </tr>\n    <tr>\n      <td>1</td>\n      <td>Harlan Barnes</td>\n      <td>eu.dolor@diam.co.uk</td>\n      <td>Belize</td>\n      <td>0</td>\n      <td>40.870623</td>\n      <td>66646.89292</td>\n      <td>9572.957136</td>\n      <td>530973.9078</td>\n      <td>45115.52566</td>\n    </tr>\n    <tr>\n      <td>2</td>\n      <td>Naomi Rodriquez</td>\n      <td>vulputate.mauris.sagittis@ametconsectetueradip...</td>\n      <td>Algeria</td>\n      <td>1</td>\n      <td>43.152897</td>\n      <td>53798.55112</td>\n      <td>11160.355060</td>\n      <td>638467.1773</td>\n      <td>42925.70921</td>\n    </tr>\n    <tr>\n      <td>3</td>\n      <td>Jade Cunningham</td>\n      <td>malesuada@dignissim.com</td>\n      <td>Cook Islands</td>\n      <td>1</td>\n      <td>58.271369</td>\n      <td>79370.03798</td>\n      <td>14426.164850</td>\n      <td>548599.0524</td>\n      <td>67422.36313</td>\n    </tr>\n    <tr>\n      <td>4</td>\n      <td>Cedric Leach</td>\n      <td>felis.ullamcorper.viverra@egetmollislectus.net</td>\n      <td>Brazil</td>\n      <td>1</td>\n      <td>57.313749</td>\n      <td>59729.15130</td>\n      <td>5358.712177</td>\n      <td>560304.0671</td>\n      <td>55915.46248</td>\n    </tr>\n    <tr>\n      <td>...</td>\n      <td>...</td>\n      <td>...</td>\n      <td>...</td>\n      <td>...</td>\n      <td>...</td>\n      <td>...</td>\n      <td>...</td>\n      <td>...</td>\n      <td>...</td>\n    </tr>\n    <tr>\n      <td>495</td>\n      <td>Walter</td>\n      <td>ligula@Cumsociis.ca</td>\n      <td>Nepal</td>\n      <td>0</td>\n      <td>41.462515</td>\n      <td>71942.40291</td>\n      <td>6995.902524</td>\n      <td>541670.1016</td>\n      <td>48901.44342</td>\n    </tr>\n    <tr>\n      <td>496</td>\n      <td>Vanna</td>\n      <td>Cum.sociis.natoque@Sedmolestie.edu</td>\n      <td>Zimbabwe</td>\n      <td>1</td>\n      <td>37.642000</td>\n      <td>56039.49793</td>\n      <td>12301.456790</td>\n      <td>360419.0988</td>\n      <td>31491.41457</td>\n    </tr>\n    <tr>\n      <td>497</td>\n      <td>Pearl</td>\n      <td>penatibus.et@massanonante.com</td>\n      <td>Philippines</td>\n      <td>1</td>\n      <td>53.943497</td>\n      <td>68888.77805</td>\n      <td>10611.606860</td>\n      <td>764531.3203</td>\n      <td>64147.28888</td>\n    </tr>\n    <tr>\n      <td>498</td>\n      <td>Nell</td>\n      <td>Quisque.varius@arcuVivamussit.net</td>\n      <td>Botswana</td>\n      <td>1</td>\n      <td>59.160509</td>\n      <td>49811.99062</td>\n      <td>14013.034510</td>\n      <td>337826.6382</td>\n      <td>45442.15353</td>\n    </tr>\n    <tr>\n      <td>499</td>\n      <td>Marla</td>\n      <td>Camaron.marla@hotmail.com</td>\n      <td>marlal</td>\n      <td>1</td>\n      <td>46.731152</td>\n      <td>61370.67766</td>\n      <td>9391.341628</td>\n      <td>462946.4924</td>\n      <td>45107.22566</td>\n    </tr>\n  </tbody>\n</table>\n<p>500 rows × 9 columns</p>\n</div>"
     },
     "metadata": {},
     "execution_count": 5
    }
   ],
   "source": [
    "car_df"
   ]
  },
  {
   "cell_type": "markdown",
   "metadata": {},
   "source": [
    "# STEP #2: VISUALIZE DATASET"
   ]
  },
  {
   "cell_type": "code",
   "execution_count": null,
   "metadata": {
    "scrolled": true
   },
   "outputs": [],
   "source": []
  },
  {
   "cell_type": "markdown",
   "metadata": {},
   "source": [
    "# STEP #3: CREATE TESTING AND TRAINING DATASET/DATA CLEANING"
   ]
  },
  {
   "cell_type": "code",
   "execution_count": null,
   "metadata": {},
   "outputs": [],
   "source": []
  },
  {
   "cell_type": "code",
   "execution_count": null,
   "metadata": {},
   "outputs": [],
   "source": []
  },
  {
   "cell_type": "code",
   "execution_count": null,
   "metadata": {},
   "outputs": [],
   "source": []
  },
  {
   "cell_type": "code",
   "execution_count": null,
   "metadata": {},
   "outputs": [],
   "source": []
  },
  {
   "cell_type": "code",
   "execution_count": null,
   "metadata": {},
   "outputs": [],
   "source": []
  },
  {
   "cell_type": "code",
   "execution_count": null,
   "metadata": {},
   "outputs": [],
   "source": []
  },
  {
   "cell_type": "code",
   "execution_count": null,
   "metadata": {},
   "outputs": [],
   "source": []
  },
  {
   "cell_type": "code",
   "execution_count": null,
   "metadata": {},
   "outputs": [],
   "source": []
  },
  {
   "cell_type": "code",
   "execution_count": null,
   "metadata": {},
   "outputs": [],
   "source": []
  },
  {
   "cell_type": "code",
   "execution_count": null,
   "metadata": {},
   "outputs": [],
   "source": []
  },
  {
   "cell_type": "code",
   "execution_count": null,
   "metadata": {},
   "outputs": [],
   "source": []
  },
  {
   "cell_type": "code",
   "execution_count": null,
   "metadata": {},
   "outputs": [],
   "source": []
  },
  {
   "cell_type": "code",
   "execution_count": null,
   "metadata": {},
   "outputs": [],
   "source": []
  },
  {
   "cell_type": "code",
   "execution_count": null,
   "metadata": {},
   "outputs": [],
   "source": []
  },
  {
   "cell_type": "code",
   "execution_count": null,
   "metadata": {},
   "outputs": [],
   "source": []
  },
  {
   "cell_type": "markdown",
   "metadata": {},
   "source": [
    "# STEP#4: TRAINING THE MODEL"
   ]
  },
  {
   "cell_type": "code",
   "execution_count": null,
   "metadata": {},
   "outputs": [],
   "source": []
  },
  {
   "cell_type": "code",
   "execution_count": null,
   "metadata": {},
   "outputs": [],
   "source": []
  },
  {
   "cell_type": "code",
   "execution_count": null,
   "metadata": {},
   "outputs": [],
   "source": []
  },
  {
   "cell_type": "code",
   "execution_count": null,
   "metadata": {},
   "outputs": [],
   "source": []
  },
  {
   "cell_type": "markdown",
   "metadata": {},
   "source": [
    "# STEP#5: EVALUATING THE MODEL "
   ]
  },
  {
   "cell_type": "code",
   "execution_count": null,
   "metadata": {},
   "outputs": [],
   "source": [
    "print(epochs_hist.history.keys())\n"
   ]
  },
  {
   "cell_type": "code",
   "execution_count": null,
   "metadata": {},
   "outputs": [],
   "source": []
  },
  {
   "cell_type": "code",
   "execution_count": null,
   "metadata": {},
   "outputs": [],
   "source": []
  }
 ],
 "metadata": {
  "kernelspec": {
   "display_name": "Python 3",
   "language": "python",
   "name": "python3"
  },
  "language_info": {
   "codemirror_mode": {
    "name": "ipython",
    "version": 3
   },
   "file_extension": ".py",
   "mimetype": "text/x-python",
   "name": "python",
   "nbconvert_exporter": "python",
   "pygments_lexer": "ipython3",
   "version": "3.7.4-final"
  },
  "widgets": {
   "state": {},
   "version": "1.1.2"
  }
 },
 "nbformat": 4,
 "nbformat_minor": 1
}